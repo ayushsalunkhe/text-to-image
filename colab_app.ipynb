{
 "cells": [
  {
   "cell_type": "code",
   "execution_count": null,
   "metadata": {},
   "outputs": [],
   "source": [
    "!pip install flask-ngrok python-dotenv requests flask"
   ]
  },
  {
   "cell_type": "code",
   "execution_count": null,
   "metadata": {},
   "outputs": [],
   "source": [
    "# Create necessary directories\n",
    "!mkdir -p templates"
   ]
  },
  {
   "cell_type": "code",
   "execution_count": null,
   "metadata": {},
   "outputs": [],
   "source": [
    "%%writefile templates/index.html\n",
    "# Copy the contents of your index.html file here"
   ]
  },
  {
   "cell_type": "code",
   "execution_count": null,
   "metadata": {},
   "outputs": [],
   "source": [
    "%%writefile app.py\n",
    "from flask import Flask, render_template, request, jsonify\n",
    "import requests\n",
    "import os\n",
    "from flask_ngrok import run_with_ngrok\n",
    "\n",
    "app = Flask(__name__)\n",
    "run_with_ngrok(app)\n",
    "\n",
    "FLUX_API_KEY = 'your_flux_api_key_here'\n",
    "\n",
    "@app.route('/')\n",
    "def home():\n",
    "    return render_template('index.html')\n",
    "\n",
    "@app.route('/generate', methods=['POST'])\n",
    "def generate_image():\n",
    "    prompt = request.form.get('prompt')\n",
    "    \n",
    "    headers = {\n",
    "        'Authorization': f'Bearer {FLUX_API_KEY}',\n",
    "        'Content-Type': 'application/json'\n",
    "    }\n",
    "    \n",
    "    data = {\n",
    "        'prompt': prompt,\n",
    "        'samples': 1,\n",
    "        'negative_prompt': 'blurry, low quality, distorted',\n",
    "        'steps': 30,\n",
    "        'cfg_scale': 7.5\n",
    "    }\n",
    "    \n",
    "    try:\n",
    "        response = requests.post(\n",
    "            'https://api.flux.ai/v1/generate/text-to-image',\n",
    "            headers=headers,\n",
    "            json=data,\n",
    "            timeout=30\n",
    "        )\n",
    "        \n",
    "        if response.status_code == 200:\n",
    "            image_data = response.json()['images'][0]\n",
    "            return jsonify({'success': True, 'image': image_data})\n",
    "        else:\n",
    "            return jsonify({'success': False, 'error': f'API Error: {response.text}'})\n",
    "    except Exception as e:\n",
    "        return jsonify({'success': False, 'error': str(e)})\n",
    "\n",
    "if __name__ == '__main__':\n",
    "    app.run()"
   ]
  },
  {
   "cell_type": "code",
   "execution_count": null,
   "metadata": {},
   "outputs": [],
   "source": [
    "# Run the Flask app\n",
    "!python app.py"
   ]
  }
 ],
 "metadata": {
  "language_info": {
   "name": "python"
  }
 },
 "nbformat": 4,
 "nbformat_minor": 2
}
